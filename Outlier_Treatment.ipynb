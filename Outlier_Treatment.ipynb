{
  "nbformat": 4,
  "nbformat_minor": 0,
  "metadata": {
    "colab": {
      "provenance": [],
      "toc_visible": true
    },
    "kernelspec": {
      "name": "python3",
      "display_name": "Python 3"
    },
    "language_info": {
      "name": "python"
    }
  },
  "cells": [
    {
      "cell_type": "code",
      "execution_count": null,
      "metadata": {
        "id": "N5OMgk6vCyP_"
      },
      "outputs": [],
      "source": [
        "import pandas as pd\n",
        "import numpy as np\n",
        "import seaborn as sns\n",
        "from scipy import stats"
      ]
    },
    {
      "cell_type": "markdown",
      "source": [
        "### Resources:\n",
        "- https://hersanyagci.medium.com/detecting-and-handling-outliers-with-pandas-7adbfcd5cad8\n",
        "- https://www.analyticsvidhya.com/blog/2021/05/detecting-and-treating-outliers-treating-the-odd-one-out/\n",
        "- https://www.geeksforgeeks.org/detect-and-remove-the-outliers-using-python/\n",
        "- https://towardsdatascience.com/detecting-and-treating-outliers-in-python-part-1-4ece5098b755\n",
        "- https://stackoverflow.com/questions/23199796/detect-and-exclude-outliers-in-a-pandas-dataframe"
      ],
      "metadata": {
        "id": "B5qA5TCjCG4h"
      }
    },
    {
      "cell_type": "markdown",
      "source": [
        "### How outliers impact analysis:\n",
        "- Impact on Statistics: Outliers can significantly affect basic statistical calculations. For example, they can greatly influence the mean and standard deviation of the data, skewing these metrics away from the central tendency of the majority of data points.\n",
        "- Influence on Models: Many statistical and machine learning models are sensitive to outliers. For example, linear regression models, which try to find a \"best fit\" line, can be significantly skewed by outliers. Similarly, models based on distance measures, like K-Nearest Neighbors, or clustering algorithms, can have their results distorted by outliers.\n",
        "- Generalization and Predictive Performance: Outliers may cause a model to be too complex, focusing on 'extreme' behavior rather than the general trend, leading to overfitting. This would negatively impact the model's ability to generalize and perform well on unseen data.\n",
        "- Data Quality: Outliers might sometimes indicate errors in data collection or entry. In these cases, it is important to identify and handle them, improving the overall quality of the data.\n",
        "- Understanding the Data: Lastly, even the process of identifying outliers can be useful, as it requires a deep understanding of the data and can often provide insights about the data or the process that generated it."
      ],
      "metadata": {
        "id": "EveVac-ReNW9"
      }
    },
    {
      "cell_type": "markdown",
      "source": [
        "### Identifying Outliers:"
      ],
      "metadata": {
        "id": "E2x_owY8e17G"
      }
    },
    {
      "cell_type": "code",
      "source": [
        "from sklearn.datasets import load_diabetes\n",
        "diabetics = load_diabetes()\n",
        "column_name = diabetics.feature_names\n",
        "df_diabetics = pd.DataFrame(diabetics.data, columns = column_name)\n",
        "print(df_diabetics.shape)\n",
        "df_diabetics.head()"
      ],
      "metadata": {
        "colab": {
          "base_uri": "https://localhost:8080/",
          "height": 224
        },
        "id": "7vSBjsEDe0eU",
        "outputId": "8e9e3abb-e96c-403a-8f92-4427957f3aa0"
      },
      "execution_count": null,
      "outputs": [
        {
          "output_type": "stream",
          "name": "stdout",
          "text": [
            "(442, 10)\n"
          ]
        },
        {
          "output_type": "execute_result",
          "data": {
            "text/plain": [
              "        age       sex       bmi        bp        s1        s2        s3  \\\n",
              "0  0.038076  0.050680  0.061696  0.021872 -0.044223 -0.034821 -0.043401   \n",
              "1 -0.001882 -0.044642 -0.051474 -0.026328 -0.008449 -0.019163  0.074412   \n",
              "2  0.085299  0.050680  0.044451 -0.005670 -0.045599 -0.034194 -0.032356   \n",
              "3 -0.089063 -0.044642 -0.011595 -0.036656  0.012191  0.024991 -0.036038   \n",
              "4  0.005383 -0.044642 -0.036385  0.021872  0.003935  0.015596  0.008142   \n",
              "\n",
              "         s4        s5        s6  \n",
              "0 -0.002592  0.019907 -0.017646  \n",
              "1 -0.039493 -0.068332 -0.092204  \n",
              "2 -0.002592  0.002861 -0.025930  \n",
              "3  0.034309  0.022688 -0.009362  \n",
              "4 -0.002592 -0.031988 -0.046641  "
            ],
            "text/html": [
              "\n",
              "  <div id=\"df-6ef4e968-5222-41c6-a3d6-2467e8a52933\">\n",
              "    <div class=\"colab-df-container\">\n",
              "      <div>\n",
              "<style scoped>\n",
              "    .dataframe tbody tr th:only-of-type {\n",
              "        vertical-align: middle;\n",
              "    }\n",
              "\n",
              "    .dataframe tbody tr th {\n",
              "        vertical-align: top;\n",
              "    }\n",
              "\n",
              "    .dataframe thead th {\n",
              "        text-align: right;\n",
              "    }\n",
              "</style>\n",
              "<table border=\"1\" class=\"dataframe\">\n",
              "  <thead>\n",
              "    <tr style=\"text-align: right;\">\n",
              "      <th></th>\n",
              "      <th>age</th>\n",
              "      <th>sex</th>\n",
              "      <th>bmi</th>\n",
              "      <th>bp</th>\n",
              "      <th>s1</th>\n",
              "      <th>s2</th>\n",
              "      <th>s3</th>\n",
              "      <th>s4</th>\n",
              "      <th>s5</th>\n",
              "      <th>s6</th>\n",
              "    </tr>\n",
              "  </thead>\n",
              "  <tbody>\n",
              "    <tr>\n",
              "      <th>0</th>\n",
              "      <td>0.038076</td>\n",
              "      <td>0.050680</td>\n",
              "      <td>0.061696</td>\n",
              "      <td>0.021872</td>\n",
              "      <td>-0.044223</td>\n",
              "      <td>-0.034821</td>\n",
              "      <td>-0.043401</td>\n",
              "      <td>-0.002592</td>\n",
              "      <td>0.019907</td>\n",
              "      <td>-0.017646</td>\n",
              "    </tr>\n",
              "    <tr>\n",
              "      <th>1</th>\n",
              "      <td>-0.001882</td>\n",
              "      <td>-0.044642</td>\n",
              "      <td>-0.051474</td>\n",
              "      <td>-0.026328</td>\n",
              "      <td>-0.008449</td>\n",
              "      <td>-0.019163</td>\n",
              "      <td>0.074412</td>\n",
              "      <td>-0.039493</td>\n",
              "      <td>-0.068332</td>\n",
              "      <td>-0.092204</td>\n",
              "    </tr>\n",
              "    <tr>\n",
              "      <th>2</th>\n",
              "      <td>0.085299</td>\n",
              "      <td>0.050680</td>\n",
              "      <td>0.044451</td>\n",
              "      <td>-0.005670</td>\n",
              "      <td>-0.045599</td>\n",
              "      <td>-0.034194</td>\n",
              "      <td>-0.032356</td>\n",
              "      <td>-0.002592</td>\n",
              "      <td>0.002861</td>\n",
              "      <td>-0.025930</td>\n",
              "    </tr>\n",
              "    <tr>\n",
              "      <th>3</th>\n",
              "      <td>-0.089063</td>\n",
              "      <td>-0.044642</td>\n",
              "      <td>-0.011595</td>\n",
              "      <td>-0.036656</td>\n",
              "      <td>0.012191</td>\n",
              "      <td>0.024991</td>\n",
              "      <td>-0.036038</td>\n",
              "      <td>0.034309</td>\n",
              "      <td>0.022688</td>\n",
              "      <td>-0.009362</td>\n",
              "    </tr>\n",
              "    <tr>\n",
              "      <th>4</th>\n",
              "      <td>0.005383</td>\n",
              "      <td>-0.044642</td>\n",
              "      <td>-0.036385</td>\n",
              "      <td>0.021872</td>\n",
              "      <td>0.003935</td>\n",
              "      <td>0.015596</td>\n",
              "      <td>0.008142</td>\n",
              "      <td>-0.002592</td>\n",
              "      <td>-0.031988</td>\n",
              "      <td>-0.046641</td>\n",
              "    </tr>\n",
              "  </tbody>\n",
              "</table>\n",
              "</div>\n",
              "      <button class=\"colab-df-convert\" onclick=\"convertToInteractive('df-6ef4e968-5222-41c6-a3d6-2467e8a52933')\"\n",
              "              title=\"Convert this dataframe to an interactive table.\"\n",
              "              style=\"display:none;\">\n",
              "        \n",
              "  <svg xmlns=\"http://www.w3.org/2000/svg\" height=\"24px\"viewBox=\"0 0 24 24\"\n",
              "       width=\"24px\">\n",
              "    <path d=\"M0 0h24v24H0V0z\" fill=\"none\"/>\n",
              "    <path d=\"M18.56 5.44l.94 2.06.94-2.06 2.06-.94-2.06-.94-.94-2.06-.94 2.06-2.06.94zm-11 1L8.5 8.5l.94-2.06 2.06-.94-2.06-.94L8.5 2.5l-.94 2.06-2.06.94zm10 10l.94 2.06.94-2.06 2.06-.94-2.06-.94-.94-2.06-.94 2.06-2.06.94z\"/><path d=\"M17.41 7.96l-1.37-1.37c-.4-.4-.92-.59-1.43-.59-.52 0-1.04.2-1.43.59L10.3 9.45l-7.72 7.72c-.78.78-.78 2.05 0 2.83L4 21.41c.39.39.9.59 1.41.59.51 0 1.02-.2 1.41-.59l7.78-7.78 2.81-2.81c.8-.78.8-2.07 0-2.86zM5.41 20L4 18.59l7.72-7.72 1.47 1.35L5.41 20z\"/>\n",
              "  </svg>\n",
              "      </button>\n",
              "      \n",
              "  <style>\n",
              "    .colab-df-container {\n",
              "      display:flex;\n",
              "      flex-wrap:wrap;\n",
              "      gap: 12px;\n",
              "    }\n",
              "\n",
              "    .colab-df-convert {\n",
              "      background-color: #E8F0FE;\n",
              "      border: none;\n",
              "      border-radius: 50%;\n",
              "      cursor: pointer;\n",
              "      display: none;\n",
              "      fill: #1967D2;\n",
              "      height: 32px;\n",
              "      padding: 0 0 0 0;\n",
              "      width: 32px;\n",
              "    }\n",
              "\n",
              "    .colab-df-convert:hover {\n",
              "      background-color: #E2EBFA;\n",
              "      box-shadow: 0px 1px 2px rgba(60, 64, 67, 0.3), 0px 1px 3px 1px rgba(60, 64, 67, 0.15);\n",
              "      fill: #174EA6;\n",
              "    }\n",
              "\n",
              "    [theme=dark] .colab-df-convert {\n",
              "      background-color: #3B4455;\n",
              "      fill: #D2E3FC;\n",
              "    }\n",
              "\n",
              "    [theme=dark] .colab-df-convert:hover {\n",
              "      background-color: #434B5C;\n",
              "      box-shadow: 0px 1px 3px 1px rgba(0, 0, 0, 0.15);\n",
              "      filter: drop-shadow(0px 1px 2px rgba(0, 0, 0, 0.3));\n",
              "      fill: #FFFFFF;\n",
              "    }\n",
              "  </style>\n",
              "\n",
              "      <script>\n",
              "        const buttonEl =\n",
              "          document.querySelector('#df-6ef4e968-5222-41c6-a3d6-2467e8a52933 button.colab-df-convert');\n",
              "        buttonEl.style.display =\n",
              "          google.colab.kernel.accessAllowed ? 'block' : 'none';\n",
              "\n",
              "        async function convertToInteractive(key) {\n",
              "          const element = document.querySelector('#df-6ef4e968-5222-41c6-a3d6-2467e8a52933');\n",
              "          const dataTable =\n",
              "            await google.colab.kernel.invokeFunction('convertToInteractive',\n",
              "                                                     [key], {});\n",
              "          if (!dataTable) return;\n",
              "\n",
              "          const docLinkHtml = 'Like what you see? Visit the ' +\n",
              "            '<a target=\"_blank\" href=https://colab.research.google.com/notebooks/data_table.ipynb>data table notebook</a>'\n",
              "            + ' to learn more about interactive tables.';\n",
              "          element.innerHTML = '';\n",
              "          dataTable['output_type'] = 'display_data';\n",
              "          await google.colab.output.renderOutput(dataTable, element);\n",
              "          const docLink = document.createElement('div');\n",
              "          docLink.innerHTML = docLinkHtml;\n",
              "          element.appendChild(docLink);\n",
              "        }\n",
              "      </script>\n",
              "    </div>\n",
              "  </div>\n",
              "  "
            ]
          },
          "metadata": {},
          "execution_count": 31
        }
      ]
    },
    {
      "cell_type": "markdown",
      "source": [
        "### Describe Method: To get min, max, mean, 25th and 75th percentile"
      ],
      "metadata": {
        "id": "xDCEqIGgriNt"
      }
    },
    {
      "cell_type": "code",
      "source": [
        "df_diabetics.describe().apply(lambda x: x.apply('{0:.5f}'.format)).T"
      ],
      "metadata": {
        "colab": {
          "base_uri": "https://localhost:8080/",
          "height": 363
        },
        "id": "-1PcyRgvhcVw",
        "outputId": "a3723e63-e65b-4166-80d3-8a9453cc09f1"
      },
      "execution_count": null,
      "outputs": [
        {
          "output_type": "execute_result",
          "data": {
            "text/plain": [
              "         count      mean      std       min       25%       50%      75%  \\\n",
              "age  442.00000  -0.00000  0.04762  -0.10723  -0.03730   0.00538  0.03808   \n",
              "sex  442.00000   0.00000  0.04762  -0.04464  -0.04464  -0.04464  0.05068   \n",
              "bmi  442.00000  -0.00000  0.04762  -0.09028  -0.03423  -0.00728  0.03125   \n",
              "bp   442.00000  -0.00000  0.04762  -0.11240  -0.03666  -0.00567  0.03564   \n",
              "s1   442.00000  -0.00000  0.04762  -0.12678  -0.03425  -0.00432  0.02836   \n",
              "s2   442.00000   0.00000  0.04762  -0.11561  -0.03036  -0.00382  0.02984   \n",
              "s3   442.00000  -0.00000  0.04762  -0.10231  -0.03512  -0.00658  0.02931   \n",
              "s4   442.00000  -0.00000  0.04762  -0.07639  -0.03949  -0.00259  0.03431   \n",
              "s5   442.00000   0.00000  0.04762  -0.12610  -0.03325  -0.00195  0.03243   \n",
              "s6   442.00000   0.00000  0.04762  -0.13777  -0.03318  -0.00108  0.02792   \n",
              "\n",
              "         max  \n",
              "age  0.11073  \n",
              "sex  0.05068  \n",
              "bmi  0.17056  \n",
              "bp   0.13204  \n",
              "s1   0.15391  \n",
              "s2   0.19879  \n",
              "s3   0.18118  \n",
              "s4   0.18523  \n",
              "s5   0.13360  \n",
              "s6   0.13561  "
            ],
            "text/html": [
              "\n",
              "  <div id=\"df-37f7861c-3d4d-435e-8b38-bd64aabda086\">\n",
              "    <div class=\"colab-df-container\">\n",
              "      <div>\n",
              "<style scoped>\n",
              "    .dataframe tbody tr th:only-of-type {\n",
              "        vertical-align: middle;\n",
              "    }\n",
              "\n",
              "    .dataframe tbody tr th {\n",
              "        vertical-align: top;\n",
              "    }\n",
              "\n",
              "    .dataframe thead th {\n",
              "        text-align: right;\n",
              "    }\n",
              "</style>\n",
              "<table border=\"1\" class=\"dataframe\">\n",
              "  <thead>\n",
              "    <tr style=\"text-align: right;\">\n",
              "      <th></th>\n",
              "      <th>count</th>\n",
              "      <th>mean</th>\n",
              "      <th>std</th>\n",
              "      <th>min</th>\n",
              "      <th>25%</th>\n",
              "      <th>50%</th>\n",
              "      <th>75%</th>\n",
              "      <th>max</th>\n",
              "    </tr>\n",
              "  </thead>\n",
              "  <tbody>\n",
              "    <tr>\n",
              "      <th>age</th>\n",
              "      <td>442.00000</td>\n",
              "      <td>-0.00000</td>\n",
              "      <td>0.04762</td>\n",
              "      <td>-0.10723</td>\n",
              "      <td>-0.03730</td>\n",
              "      <td>0.00538</td>\n",
              "      <td>0.03808</td>\n",
              "      <td>0.11073</td>\n",
              "    </tr>\n",
              "    <tr>\n",
              "      <th>sex</th>\n",
              "      <td>442.00000</td>\n",
              "      <td>0.00000</td>\n",
              "      <td>0.04762</td>\n",
              "      <td>-0.04464</td>\n",
              "      <td>-0.04464</td>\n",
              "      <td>-0.04464</td>\n",
              "      <td>0.05068</td>\n",
              "      <td>0.05068</td>\n",
              "    </tr>\n",
              "    <tr>\n",
              "      <th>bmi</th>\n",
              "      <td>442.00000</td>\n",
              "      <td>-0.00000</td>\n",
              "      <td>0.04762</td>\n",
              "      <td>-0.09028</td>\n",
              "      <td>-0.03423</td>\n",
              "      <td>-0.00728</td>\n",
              "      <td>0.03125</td>\n",
              "      <td>0.17056</td>\n",
              "    </tr>\n",
              "    <tr>\n",
              "      <th>bp</th>\n",
              "      <td>442.00000</td>\n",
              "      <td>-0.00000</td>\n",
              "      <td>0.04762</td>\n",
              "      <td>-0.11240</td>\n",
              "      <td>-0.03666</td>\n",
              "      <td>-0.00567</td>\n",
              "      <td>0.03564</td>\n",
              "      <td>0.13204</td>\n",
              "    </tr>\n",
              "    <tr>\n",
              "      <th>s1</th>\n",
              "      <td>442.00000</td>\n",
              "      <td>-0.00000</td>\n",
              "      <td>0.04762</td>\n",
              "      <td>-0.12678</td>\n",
              "      <td>-0.03425</td>\n",
              "      <td>-0.00432</td>\n",
              "      <td>0.02836</td>\n",
              "      <td>0.15391</td>\n",
              "    </tr>\n",
              "    <tr>\n",
              "      <th>s2</th>\n",
              "      <td>442.00000</td>\n",
              "      <td>0.00000</td>\n",
              "      <td>0.04762</td>\n",
              "      <td>-0.11561</td>\n",
              "      <td>-0.03036</td>\n",
              "      <td>-0.00382</td>\n",
              "      <td>0.02984</td>\n",
              "      <td>0.19879</td>\n",
              "    </tr>\n",
              "    <tr>\n",
              "      <th>s3</th>\n",
              "      <td>442.00000</td>\n",
              "      <td>-0.00000</td>\n",
              "      <td>0.04762</td>\n",
              "      <td>-0.10231</td>\n",
              "      <td>-0.03512</td>\n",
              "      <td>-0.00658</td>\n",
              "      <td>0.02931</td>\n",
              "      <td>0.18118</td>\n",
              "    </tr>\n",
              "    <tr>\n",
              "      <th>s4</th>\n",
              "      <td>442.00000</td>\n",
              "      <td>-0.00000</td>\n",
              "      <td>0.04762</td>\n",
              "      <td>-0.07639</td>\n",
              "      <td>-0.03949</td>\n",
              "      <td>-0.00259</td>\n",
              "      <td>0.03431</td>\n",
              "      <td>0.18523</td>\n",
              "    </tr>\n",
              "    <tr>\n",
              "      <th>s5</th>\n",
              "      <td>442.00000</td>\n",
              "      <td>0.00000</td>\n",
              "      <td>0.04762</td>\n",
              "      <td>-0.12610</td>\n",
              "      <td>-0.03325</td>\n",
              "      <td>-0.00195</td>\n",
              "      <td>0.03243</td>\n",
              "      <td>0.13360</td>\n",
              "    </tr>\n",
              "    <tr>\n",
              "      <th>s6</th>\n",
              "      <td>442.00000</td>\n",
              "      <td>0.00000</td>\n",
              "      <td>0.04762</td>\n",
              "      <td>-0.13777</td>\n",
              "      <td>-0.03318</td>\n",
              "      <td>-0.00108</td>\n",
              "      <td>0.02792</td>\n",
              "      <td>0.13561</td>\n",
              "    </tr>\n",
              "  </tbody>\n",
              "</table>\n",
              "</div>\n",
              "      <button class=\"colab-df-convert\" onclick=\"convertToInteractive('df-37f7861c-3d4d-435e-8b38-bd64aabda086')\"\n",
              "              title=\"Convert this dataframe to an interactive table.\"\n",
              "              style=\"display:none;\">\n",
              "        \n",
              "  <svg xmlns=\"http://www.w3.org/2000/svg\" height=\"24px\"viewBox=\"0 0 24 24\"\n",
              "       width=\"24px\">\n",
              "    <path d=\"M0 0h24v24H0V0z\" fill=\"none\"/>\n",
              "    <path d=\"M18.56 5.44l.94 2.06.94-2.06 2.06-.94-2.06-.94-.94-2.06-.94 2.06-2.06.94zm-11 1L8.5 8.5l.94-2.06 2.06-.94-2.06-.94L8.5 2.5l-.94 2.06-2.06.94zm10 10l.94 2.06.94-2.06 2.06-.94-2.06-.94-.94-2.06-.94 2.06-2.06.94z\"/><path d=\"M17.41 7.96l-1.37-1.37c-.4-.4-.92-.59-1.43-.59-.52 0-1.04.2-1.43.59L10.3 9.45l-7.72 7.72c-.78.78-.78 2.05 0 2.83L4 21.41c.39.39.9.59 1.41.59.51 0 1.02-.2 1.41-.59l7.78-7.78 2.81-2.81c.8-.78.8-2.07 0-2.86zM5.41 20L4 18.59l7.72-7.72 1.47 1.35L5.41 20z\"/>\n",
              "  </svg>\n",
              "      </button>\n",
              "      \n",
              "  <style>\n",
              "    .colab-df-container {\n",
              "      display:flex;\n",
              "      flex-wrap:wrap;\n",
              "      gap: 12px;\n",
              "    }\n",
              "\n",
              "    .colab-df-convert {\n",
              "      background-color: #E8F0FE;\n",
              "      border: none;\n",
              "      border-radius: 50%;\n",
              "      cursor: pointer;\n",
              "      display: none;\n",
              "      fill: #1967D2;\n",
              "      height: 32px;\n",
              "      padding: 0 0 0 0;\n",
              "      width: 32px;\n",
              "    }\n",
              "\n",
              "    .colab-df-convert:hover {\n",
              "      background-color: #E2EBFA;\n",
              "      box-shadow: 0px 1px 2px rgba(60, 64, 67, 0.3), 0px 1px 3px 1px rgba(60, 64, 67, 0.15);\n",
              "      fill: #174EA6;\n",
              "    }\n",
              "\n",
              "    [theme=dark] .colab-df-convert {\n",
              "      background-color: #3B4455;\n",
              "      fill: #D2E3FC;\n",
              "    }\n",
              "\n",
              "    [theme=dark] .colab-df-convert:hover {\n",
              "      background-color: #434B5C;\n",
              "      box-shadow: 0px 1px 3px 1px rgba(0, 0, 0, 0.15);\n",
              "      filter: drop-shadow(0px 1px 2px rgba(0, 0, 0, 0.3));\n",
              "      fill: #FFFFFF;\n",
              "    }\n",
              "  </style>\n",
              "\n",
              "      <script>\n",
              "        const buttonEl =\n",
              "          document.querySelector('#df-37f7861c-3d4d-435e-8b38-bd64aabda086 button.colab-df-convert');\n",
              "        buttonEl.style.display =\n",
              "          google.colab.kernel.accessAllowed ? 'block' : 'none';\n",
              "\n",
              "        async function convertToInteractive(key) {\n",
              "          const element = document.querySelector('#df-37f7861c-3d4d-435e-8b38-bd64aabda086');\n",
              "          const dataTable =\n",
              "            await google.colab.kernel.invokeFunction('convertToInteractive',\n",
              "                                                     [key], {});\n",
              "          if (!dataTable) return;\n",
              "\n",
              "          const docLinkHtml = 'Like what you see? Visit the ' +\n",
              "            '<a target=\"_blank\" href=https://colab.research.google.com/notebooks/data_table.ipynb>data table notebook</a>'\n",
              "            + ' to learn more about interactive tables.';\n",
              "          element.innerHTML = '';\n",
              "          dataTable['output_type'] = 'display_data';\n",
              "          await google.colab.output.renderOutput(dataTable, element);\n",
              "          const docLink = document.createElement('div');\n",
              "          docLink.innerHTML = docLinkHtml;\n",
              "          element.appendChild(docLink);\n",
              "        }\n",
              "      </script>\n",
              "    </div>\n",
              "  </div>\n",
              "  "
            ]
          },
          "metadata": {},
          "execution_count": 24
        }
      ]
    },
    {
      "cell_type": "markdown",
      "source": [
        "### Tukey's box plot :\n",
        "- line in the box : median\n",
        "- edges of the box : 25th and 75th percentile\n",
        "- whiskers beyond the box : Q1-1.5*IQR and Q3+1.5*IQR\n",
        "- points beyond the whiskers : outliers\n",
        "\n",
        "NOTE: In a min-max box plot the whiskers indicate the minimum and maximum points and no outliers are shown"
      ],
      "metadata": {
        "id": "U051PEhorojw"
      }
    },
    {
      "cell_type": "code",
      "source": [
        "sns.boxplot(data = df_diabetics, orient = 'h')"
      ],
      "metadata": {
        "colab": {
          "base_uri": "https://localhost:8080/",
          "height": 447
        },
        "id": "I7eZe-8Yh7s0",
        "outputId": "52172192-2030-4f32-dc2c-6ed992639d77"
      },
      "execution_count": null,
      "outputs": [
        {
          "output_type": "execute_result",
          "data": {
            "text/plain": [
              "<Axes: >"
            ]
          },
          "metadata": {},
          "execution_count": 25
        },
        {
          "output_type": "display_data",
          "data": {
            "text/plain": [
              "<Figure size 640x480 with 1 Axes>"
            ],
            "image/png": "[encoded data removed]"
          },
          "metadata": {}
        }
      ]
    },
    {
      "cell_type": "markdown",
      "source": [
        "### Scatter Plot: To identify bivariate outliers\n",
        "- Eg: A multivariate outlier could be an observation of a human with a height measurement of 2 meters (in the 95th percentile) and a weight measurement of 50kg (in the 5th percentile)"
      ],
      "metadata": {
        "id": "v89LRwXY22wn"
      }
    },
    {
      "cell_type": "code",
      "source": [
        "sns.scatterplot(data = df_diabetics, x ='bmi', y='bp')"
      ],
      "metadata": {
        "colab": {
          "base_uri": "https://localhost:8080/",
          "height": 466
        },
        "id": "NPmojzj2qwyv",
        "outputId": "786b0546-ab78-4b99-c8f7-054d3152a71b"
      },
      "execution_count": null,
      "outputs": [
        {
          "output_type": "execute_result",
          "data": {
            "text/plain": [
              "<Axes: xlabel='bmi', ylabel='bp'>"
            ]
          },
          "metadata": {},
          "execution_count": 29
        },
        {
          "output_type": "display_data",
          "data": {
            "text/plain": [
              "<Figure size 640x480 with 1 Axes>"
            ],
            "image/png": "[encoded data removed]"
          },
          "metadata": {}
        }
      ]
    },
    {
      "cell_type": "code",
      "source": [
        "sns.distplot(df_diabetics['bp'],bins =50, kde = True)"
      ],
      "metadata": {
        "colab": {
          "base_uri": "https://localhost:8080/",
          "height": 657
        },
        "id": "rC7-6Bgarab6",
        "outputId": "d42ce0cb-77a8-4871-db07-d721fecfde4d"
      },
      "execution_count": null,
      "outputs": [
        {
          "output_type": "stream",
          "name": "stderr",
          "text": [
            "<ipython-input-61-4e44107fc78f>:1: UserWarning: \n",
            "\n",
            "`distplot` is a deprecated function and will be removed in seaborn v0.14.0.\n",
            "\n",
            "Please adapt your code to use either `displot` (a figure-level function with\n",
            "similar flexibility) or `histplot` (an axes-level function for histograms).\n",
            "\n",
            "For a guide to updating your code to use the new functions, please see\n",
            "https://gist.github.com/mwaskom/de44147ed2974457ad6372750bbe5751\n",
            "\n",
            "  sns.distplot(df_diabetics['bp'],bins =50, kde = True)\n"
          ]
        },
        {
          "output_type": "execute_result",
          "data": {
            "text/plain": [
              "<Axes: xlabel='bp', ylabel='Density'>"
            ]
          },
          "metadata": {},
          "execution_count": 61
        },
        {
          "output_type": "display_data",
          "data": {
            "text/plain": [
              "<Figure size 640x480 with 1 Axes>"
            ],
            "image/png": "[encoded data removed]"
          },
          "metadata": {}
        }
      ]
    },
    {
      "cell_type": "markdown",
      "source": [
        "### Ways to treat Outliers:\n",
        "- Deletion: You can simply remove the outliers from your dataset. This might be reasonable if you believe the outliers are due to errors in data collection or entry. However, it should be used cautiously, as you're essentially throwing away data, which could lead to loss of information.\n",
        "- Transformation: You can apply a transformation to your data that reduces the impact of the outliers. For example, a logarithmic transformation can reduce the effect of extreme values.\n",
        "- Capping: You can cap your data at a certain value. For example, you could specify that all values above the 95th percentile will be set to the value at the 95th percentile. This method retains all data points, but limits the influence of extreme values.\n",
        "- Imputation: You can replace the outliers with statistical measures such as the mean, median, or mode. This might be reasonable if you believe the outliers are due to errors.\n",
        "- Binning: You can bin the data into categories, which can then be treated as categorical variables. This can limit the influence of outliers by grouping them with other similar data points.\n",
        "- Separate Treatment: If the outliers could represent a different population or a different phenomenon than the rest of the data, it might be useful to treat them separately in your analysis.\n",
        "- Robust Methods: You can use statistical techniques or machine learning algorithms that are robust to outliers. For instance, median is a measure of central tendency that is not affected by outliers, unlike mean. Similarly, certain algorithms like Random Forest or SVM can be less sensitive to outliers.\n",
        "- Use of Confidence Intervals: If the outliers are associated with measurements that are unreliable or uncertain, you can incorporate uncertainty into your data through the use of confidence intervals."
      ],
      "metadata": {
        "id": "TrxYNjYFecUh"
      }
    },
    {
      "cell_type": "markdown",
      "source": [
        "### Tukey's Method:"
      ],
      "metadata": {
        "id": "0P4tRJhXxRaL"
      }
    },
    {
      "cell_type": "code",
      "source": [
        "Q1 = np.percentile(df_diabetics['bmi'], 25)\n",
        "Q3 = np.percentile(df_diabetics['bmi'], 75)\n",
        "IQR = Q3-Q1\n",
        "upper = Q3+1.5*IQR\n",
        "lower = Q1-1.5*IQR\n",
        "df_diabetics1 = df_diabetics[(df_diabetics['bmi'] > lower) & (df_diabetics['bmi'] < upper)]\n",
        "print(df_diabetics1.shape)\n",
        "sns.boxplot(data = [df_diabetics['bmi'],df_diabetics1['bmi']])"
      ],
      "metadata": {
        "colab": {
          "base_uri": "https://localhost:8080/",
          "height": 465
        },
        "id": "4oEk2joIsODq",
        "outputId": "c35a5477-4519-471e-f68e-0472c77f3fd2"
      },
      "execution_count": null,
      "outputs": [
        {
          "output_type": "stream",
          "name": "stdout",
          "text": [
            "(439, 10)\n"
          ]
        },
        {
          "output_type": "execute_result",
          "data": {
            "text/plain": [
              "<Axes: >"
            ]
          },
          "metadata": {},
          "execution_count": 45
        },
        {
          "output_type": "display_data",
          "data": {
            "text/plain": [
              "<Figure size 640x480 with 1 Axes>"
            ],
            "image/png": "[encoded data removed]"
          },
          "metadata": {}
        }
      ]
    },
    {
      "cell_type": "code",
      "source": [
        "# Capping instead of deleting values that are considered outliers:\n",
        "Q1 = np.percentile(df_diabetics['bmi'], 25)\n",
        "Q3 = np.percentile(df_diabetics['bmi'], 75)\n",
        "IQR = Q3-Q1\n",
        "upper = Q3+1.5*IQR\n",
        "lower = Q1-1.5*IQR\n",
        "\n",
        "df_diabetics1[df_diabetics['bmi'] > upper]['bmi'] = upper\n",
        "df_diabetics1[df_diabetics['bmi'] < lower]['bmi'] = lower\n",
        "\n",
        "print(df_diabetics1.shape)\n",
        "sns.distplot(df_diabetics['bmi'])\n",
        "sns.distplot(df_diabetics1['bmi'])\n",
        "# sns.boxplot(data = [df_diabetics['bmi'],df_diabetics1['bmi']])"
      ],
      "metadata": {
        "colab": {
          "base_uri": "https://localhost:8080/",
          "height": 1000
        },
        "id": "jWUMzEuDAQmw",
        "outputId": "dd9888ee-4ff7-477a-bf23-fd2960952588"
      },
      "execution_count": null,
      "outputs": [
        {
          "output_type": "stream",
          "name": "stderr",
          "text": [
            "<ipython-input-71-164eb5d22d0d>:8: UserWarning: Boolean Series key will be reindexed to match DataFrame index.\n",
            "  df_diabetics1[df_diabetics['bmi'] > upper]['bmi'] = upper\n",
            "<ipython-input-71-164eb5d22d0d>:8: SettingWithCopyWarning: \n",
            "A value is trying to be set on a copy of a slice from a DataFrame.\n",
            "Try using .loc[row_indexer,col_indexer] = value instead\n",
            "\n",
            "See the caveats in the documentation: https://pandas.pydata.org/pandas-docs/stable/user_guide/indexing.html#returning-a-view-versus-a-copy\n",
            "  df_diabetics1[df_diabetics['bmi'] > upper]['bmi'] = upper\n",
            "<ipython-input-71-164eb5d22d0d>:9: UserWarning: Boolean Series key will be reindexed to match DataFrame index.\n",
            "  df_diabetics1[df_diabetics['bmi'] < lower]['bmi'] = lower\n",
            "<ipython-input-71-164eb5d22d0d>:12: UserWarning: \n",
            "\n",
            "`distplot` is a deprecated function and will be removed in seaborn v0.14.0.\n",
            "\n",
            "Please adapt your code to use either `displot` (a figure-level function with\n",
            "similar flexibility) or `histplot` (an axes-level function for histograms).\n",
            "\n",
            "For a guide to updating your code to use the new functions, please see\n",
            "https://gist.github.com/mwaskom/de44147ed2974457ad6372750bbe5751\n",
            "\n",
            "  sns.distplot(df_diabetics['bmi'])\n"
          ]
        },
        {
          "output_type": "stream",
          "name": "stdout",
          "text": [
            "(421, 10)\n"
          ]
        },
        {
          "output_type": "stream",
          "name": "stderr",
          "text": [
            "<ipython-input-71-164eb5d22d0d>:13: UserWarning: \n",
            "\n",
            "`distplot` is a deprecated function and will be removed in seaborn v0.14.0.\n",
            "\n",
            "Please adapt your code to use either `displot` (a figure-level function with\n",
            "similar flexibility) or `histplot` (an axes-level function for histograms).\n",
            "\n",
            "For a guide to updating your code to use the new functions, please see\n",
            "https://gist.github.com/mwaskom/de44147ed2974457ad6372750bbe5751\n",
            "\n",
            "  sns.distplot(df_diabetics1['bmi'])\n"
          ]
        },
        {
          "output_type": "execute_result",
          "data": {
            "text/plain": [
              "<Axes: xlabel='bmi', ylabel='Density'>"
            ]
          },
          "metadata": {},
          "execution_count": 71
        },
        {
          "output_type": "display_data",
          "data": {
            "text/plain": [
              "<Figure size 640x480 with 1 Axes>"
            ],
            "image/png": "[encoded data removed]"
          },
          "metadata": {}
        }
      ]
    },
    {
      "cell_type": "markdown",
      "source": [
        "### Log IQ Method :\n",
        "If a distribution is highly skewed (usually found in real-life data), the Tukey method can be extended to the log-IQ method. Here, each value is transformed to its logarithm before calculating the inner and outer fences."
      ],
      "metadata": {
        "id": "MgduWPETxJLd"
      }
    },
    {
      "cell_type": "code",
      "source": [
        "Q1 = np.percentile(np.log(df_diabetics['s3']+1), 25)\n",
        "Q3 = np.percentile(np.log(df_diabetics['s3']+1), 75)\n",
        "IQR = Q3-Q1\n",
        "upper = Q3+1.5*IQR\n",
        "lower = Q1-1.5*IQR\n",
        "df_diabetics1 = df_diabetics[(np.log(df_diabetics['s3']+1) > lower) & (np.log(df_diabetics['s3']+1) < upper)]\n",
        "print(df_diabetics1.shape)\n",
        "sns.boxplot(data = [df_diabetics['s3'],df_diabetics1['s3']])"
      ],
      "metadata": {
        "colab": {
          "base_uri": "https://localhost:8080/",
          "height": 465
        },
        "id": "yKrD9ZJtxIHL",
        "outputId": "51440896-3182-4be2-ba4b-985d76ea9aaf"
      },
      "execution_count": null,
      "outputs": [
        {
          "output_type": "stream",
          "name": "stdout",
          "text": [
            "(436, 10)\n"
          ]
        },
        {
          "output_type": "execute_result",
          "data": {
            "text/plain": [
              "<Axes: >"
            ]
          },
          "metadata": {},
          "execution_count": 44
        },
        {
          "output_type": "display_data",
          "data": {
            "text/plain": [
              "<Figure size 640x480 with 1 Axes>"
            ],
            "image/png": "[encoded data removed]"
          },
          "metadata": {}
        }
      ]
    },
    {
      "cell_type": "markdown",
      "source": [
        "### Internally studentized residuals AKA z-score method:\n",
        "- For each observation (Xn), it is measured how many standard deviations the data point is away from its mean (X̄).\n",
        "- Following a common rule of thumb, if z > C, where C is usually set to 3, the observation is marked as an outlier. This rule stems from the fact that if a variable is normally distributed, 99.7% of all data points are located 3 standard deviations around the mean\n",
        "- this method is highly limited as the distributions mean and standard deviation are sensitive to outliers. This means that finding one outlier is dependent on other outliers as every observation directly affects the mean"
      ],
      "metadata": {
        "id": "JSSgZT7vxxL3"
      }
    },
    {
      "cell_type": "code",
      "source": [
        "df_diabetics1 = df_diabetics[np.abs(stats.zscore(df_diabetics['s2'])) <= 3]\n",
        "print(df_diabetics1.shape)\n",
        "sns.boxplot(data = [df_diabetics['s2'],df_diabetics1['s2']])"
      ],
      "metadata": {
        "colab": {
          "base_uri": "https://localhost:8080/",
          "height": 465
        },
        "id": "dlsUXY2XeMH0",
        "outputId": "87210a9b-fde6-42a7-fd16-e836adf9202e"
      },
      "execution_count": null,
      "outputs": [
        {
          "output_type": "stream",
          "name": "stdout",
          "text": [
            "(440, 10)\n"
          ]
        },
        {
          "output_type": "execute_result",
          "data": {
            "text/plain": [
              "<Axes: >"
            ]
          },
          "metadata": {},
          "execution_count": 43
        },
        {
          "output_type": "display_data",
          "data": {
            "text/plain": [
              "<Figure size 640x480 with 1 Axes>"
            ],
            "image/png": "[encoded data removed]"
          },
          "metadata": {}
        }
      ]
    },
    {
      "cell_type": "markdown",
      "source": [
        "### Median Absolute Deviation from the median (MAD):\n",
        "- The median absolute deviation method (MAD) replaces the mean and standard deviation with more robust statistics, like the median and median absolute deviation. The median absolute deviation is defined as: MAD = median(|X_i - X_bar|)"
      ],
      "metadata": {
        "id": "bSBh3-3R3Vus"
      }
    },
    {
      "cell_type": "code",
      "source": [
        "med = np.median(df_diabetics['s2'])\n",
        "mad = stats.median_abs_deviation(df_diabetics['s2'])\n",
        "df_diabetics1 = df_diabetics[((df_diabetics['s2']-med)/mad) <= 3]\n",
        "print(df_diabetics1.shape)\n",
        "sns.boxplot(data = [df_diabetics['s2'],df_diabetics1['s2']])"
      ],
      "metadata": {
        "colab": {
          "base_uri": "https://localhost:8080/",
          "height": 465
        },
        "id": "RdgX136937L9",
        "outputId": "5d81cc81-fd0b-47eb-de14-7e46fc9cdb29"
      },
      "execution_count": null,
      "outputs": [
        {
          "output_type": "stream",
          "name": "stdout",
          "text": [
            "(421, 10)\n"
          ]
        },
        {
          "output_type": "execute_result",
          "data": {
            "text/plain": [
              "<Axes: >"
            ]
          },
          "metadata": {},
          "execution_count": 64
        },
        {
          "output_type": "display_data",
          "data": {
            "text/plain": [
              "<Figure size 640x480 with 1 Axes>"
            ],
            "image/png": "[encoded data removed]"
          },
          "metadata": {}
        }
      ]
    },
    {
      "cell_type": "markdown",
      "source": [
        "### Winsorize Method:\n",
        "- In the Winsorize Method, we limit outliers with an upper and lower limit\n",
        "- We will make our upper and lower limits for data our new maximum and minimum points"
      ],
      "metadata": {
        "id": "jbR7Vfo-1MHg"
      }
    },
    {
      "cell_type": "code",
      "source": [
        "upper = np.percentile(df_diabetics['bmi'], 99)\n",
        "lower = np.percentile(df_diabetics['bmi'], 1)\n",
        "df_diabetics1 = df_diabetics[(df_diabetics['bmi'] > lower) & (df_diabetics['bmi'] < upper)]\n",
        "print(df_diabetics1.shape)\n",
        "sns.boxplot(data = [df_diabetics['bmi'],df_diabetics1['bmi']])"
      ],
      "metadata": {
        "colab": {
          "base_uri": "https://localhost:8080/",
          "height": 465
        },
        "id": "Z-28smmNygIw",
        "outputId": "0cb7bc44-c5d1-4f37-d5ed-aad92819e732"
      },
      "execution_count": null,
      "outputs": [
        {
          "output_type": "stream",
          "name": "stdout",
          "text": [
            "(431, 10)\n"
          ]
        },
        {
          "output_type": "execute_result",
          "data": {
            "text/plain": [
              "<Axes: >"
            ]
          },
          "metadata": {},
          "execution_count": 46
        },
        {
          "output_type": "display_data",
          "data": {
            "text/plain": [
              "<Figure size 640x480 with 1 Axes>"
            ],
            "image/png": "[encoded data removed]"
          },
          "metadata": {}
        }
      ]
    },
    {
      "cell_type": "code",
      "source": [
        "from scipy.stats.mstats import winsorize\n",
        "df_diabetics1 = winsorize(df_diabetics, (0.01,0.99))\n",
        "print(df_diabetics1.shape)\n",
        "#sns.boxplot(data = [df_diabetics['bmi'],df_diabetics1['bmi']])"
      ],
      "metadata": {
        "colab": {
          "base_uri": "https://localhost:8080/",
          "height": 364
        },
        "id": "VkX592No1r1B",
        "outputId": "aa15e2e3-afc8-4538-a829-b66b6ff021c0"
      },
      "execution_count": null,
      "outputs": [
        {
          "output_type": "error",
          "ename": "AttributeError",
          "evalue": "ignored",
          "traceback": [
            "\u001b[0;31m---------------------------------------------------------------------------\u001b[0m",
            "\u001b[0;31mAttributeError\u001b[0m                            Traceback (most recent call last)",
            "\u001b[0;32m<ipython-input-51-79020d8f6f74>\u001b[0m in \u001b[0;36m<cell line: 2>\u001b[0;34m()\u001b[0m\n\u001b[1;32m      1\u001b[0m \u001b[0;32mfrom\u001b[0m \u001b[0mscipy\u001b[0m\u001b[0;34m.\u001b[0m\u001b[0mstats\u001b[0m\u001b[0;34m.\u001b[0m\u001b[0mmstats\u001b[0m \u001b[0;32mimport\u001b[0m \u001b[0mwinsorize\u001b[0m\u001b[0;34m\u001b[0m\u001b[0;34m\u001b[0m\u001b[0m\n\u001b[0;32m----> 2\u001b[0;31m \u001b[0mdf_diabetics1\u001b[0m \u001b[0;34m=\u001b[0m \u001b[0mwinsorize\u001b[0m\u001b[0;34m(\u001b[0m\u001b[0mdf_diabetics\u001b[0m\u001b[0;34m,\u001b[0m \u001b[0;34m(\u001b[0m\u001b[0;36m0.01\u001b[0m\u001b[0;34m,\u001b[0m\u001b[0;36m0.99\u001b[0m\u001b[0;34m)\u001b[0m\u001b[0;34m)\u001b[0m\u001b[0;34m\u001b[0m\u001b[0;34m\u001b[0m\u001b[0m\n\u001b[0m\u001b[1;32m      3\u001b[0m \u001b[0mprint\u001b[0m\u001b[0;34m(\u001b[0m\u001b[0mdf_diabetics1\u001b[0m\u001b[0;34m.\u001b[0m\u001b[0mshape\u001b[0m\u001b[0;34m)\u001b[0m\u001b[0;34m\u001b[0m\u001b[0;34m\u001b[0m\u001b[0m\n\u001b[1;32m      4\u001b[0m \u001b[0;31m#sns.boxplot(data = [df_diabetics['bmi'],df_diabetics1['bmi']])\u001b[0m\u001b[0;34m\u001b[0m\u001b[0;34m\u001b[0m\u001b[0m\n",
            "\u001b[0;32m/usr/local/lib/python3.10/dist-packages/scipy/stats/_mstats_basic.py\u001b[0m in \u001b[0;36mwinsorize\u001b[0;34m(a, limits, inclusive, inplace, axis, nan_policy)\u001b[0m\n\u001b[1;32m   2520\u001b[0m         \u001b[0;32mreturn\u001b[0m \u001b[0ma\u001b[0m\u001b[0;34m\u001b[0m\u001b[0;34m\u001b[0m\u001b[0m\n\u001b[1;32m   2521\u001b[0m \u001b[0;34m\u001b[0m\u001b[0m\n\u001b[0;32m-> 2522\u001b[0;31m     \u001b[0mcontains_nan\u001b[0m\u001b[0;34m,\u001b[0m \u001b[0mnan_policy\u001b[0m \u001b[0;34m=\u001b[0m \u001b[0m_contains_nan\u001b[0m\u001b[0;34m(\u001b[0m\u001b[0ma\u001b[0m\u001b[0;34m,\u001b[0m \u001b[0mnan_policy\u001b[0m\u001b[0;34m)\u001b[0m\u001b[0;34m\u001b[0m\u001b[0;34m\u001b[0m\u001b[0m\n\u001b[0m\u001b[1;32m   2523\u001b[0m     \u001b[0;31m# We are going to modify a: better make a copy\u001b[0m\u001b[0;34m\u001b[0m\u001b[0;34m\u001b[0m\u001b[0m\n\u001b[1;32m   2524\u001b[0m     \u001b[0ma\u001b[0m \u001b[0;34m=\u001b[0m \u001b[0mma\u001b[0m\u001b[0;34m.\u001b[0m\u001b[0marray\u001b[0m\u001b[0;34m(\u001b[0m\u001b[0ma\u001b[0m\u001b[0;34m,\u001b[0m \u001b[0mcopy\u001b[0m\u001b[0;34m=\u001b[0m\u001b[0mnp\u001b[0m\u001b[0;34m.\u001b[0m\u001b[0mlogical_not\u001b[0m\u001b[0;34m(\u001b[0m\u001b[0minplace\u001b[0m\u001b[0;34m)\u001b[0m\u001b[0;34m)\u001b[0m\u001b[0;34m\u001b[0m\u001b[0;34m\u001b[0m\u001b[0m\n",
            "\u001b[0;32m/usr/local/lib/python3.10/dist-packages/scipy/_lib/_util.py\u001b[0m in \u001b[0;36m_contains_nan\u001b[0;34m(a, nan_policy, use_summation)\u001b[0m\n\u001b[1;32m    624\u001b[0m                          ', '.join(\"'%s'\" % s for s in policies))\n\u001b[1;32m    625\u001b[0m \u001b[0;34m\u001b[0m\u001b[0m\n\u001b[0;32m--> 626\u001b[0;31m     \u001b[0;32mif\u001b[0m \u001b[0mnp\u001b[0m\u001b[0;34m.\u001b[0m\u001b[0missubdtype\u001b[0m\u001b[0;34m(\u001b[0m\u001b[0ma\u001b[0m\u001b[0;34m.\u001b[0m\u001b[0mdtype\u001b[0m\u001b[0;34m,\u001b[0m \u001b[0mnp\u001b[0m\u001b[0;34m.\u001b[0m\u001b[0minexact\u001b[0m\u001b[0;34m)\u001b[0m\u001b[0;34m:\u001b[0m\u001b[0;34m\u001b[0m\u001b[0;34m\u001b[0m\u001b[0m\n\u001b[0m\u001b[1;32m    627\u001b[0m         \u001b[0;31m# The summation method avoids creating a (potentially huge) array.\u001b[0m\u001b[0;34m\u001b[0m\u001b[0;34m\u001b[0m\u001b[0m\n\u001b[1;32m    628\u001b[0m         \u001b[0;32mif\u001b[0m \u001b[0muse_summation\u001b[0m\u001b[0;34m:\u001b[0m\u001b[0;34m\u001b[0m\u001b[0;34m\u001b[0m\u001b[0m\n",
            "\u001b[0;32m/usr/local/lib/python3.10/dist-packages/pandas/core/generic.py\u001b[0m in \u001b[0;36m__getattr__\u001b[0;34m(self, name)\u001b[0m\n\u001b[1;32m   5900\u001b[0m         ):\n\u001b[1;32m   5901\u001b[0m             \u001b[0;32mreturn\u001b[0m \u001b[0mself\u001b[0m\u001b[0;34m[\u001b[0m\u001b[0mname\u001b[0m\u001b[0;34m]\u001b[0m\u001b[0;34m\u001b[0m\u001b[0;34m\u001b[0m\u001b[0m\n\u001b[0;32m-> 5902\u001b[0;31m         \u001b[0;32mreturn\u001b[0m \u001b[0mobject\u001b[0m\u001b[0;34m.\u001b[0m\u001b[0m__getattribute__\u001b[0m\u001b[0;34m(\u001b[0m\u001b[0mself\u001b[0m\u001b[0;34m,\u001b[0m \u001b[0mname\u001b[0m\u001b[0;34m)\u001b[0m\u001b[0;34m\u001b[0m\u001b[0;34m\u001b[0m\u001b[0m\n\u001b[0m\u001b[1;32m   5903\u001b[0m \u001b[0;34m\u001b[0m\u001b[0m\n\u001b[1;32m   5904\u001b[0m     \u001b[0;32mdef\u001b[0m \u001b[0m__setattr__\u001b[0m\u001b[0;34m(\u001b[0m\u001b[0mself\u001b[0m\u001b[0;34m,\u001b[0m \u001b[0mname\u001b[0m\u001b[0;34m:\u001b[0m \u001b[0mstr\u001b[0m\u001b[0;34m,\u001b[0m \u001b[0mvalue\u001b[0m\u001b[0;34m)\u001b[0m \u001b[0;34m->\u001b[0m \u001b[0;32mNone\u001b[0m\u001b[0;34m:\u001b[0m\u001b[0;34m\u001b[0m\u001b[0;34m\u001b[0m\u001b[0m\n",
            "\u001b[0;31mAttributeError\u001b[0m: 'DataFrame' object has no attribute 'dtype'"
          ]
        }
      ]
    },
    {
      "cell_type": "code",
      "source": [],
      "metadata": {
        "id": "3SwEhf-J1__l"
      },
      "execution_count": null,
      "outputs": []
    }
  ]
}